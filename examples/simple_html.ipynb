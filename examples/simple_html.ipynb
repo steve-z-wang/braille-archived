{
 "cells": [
  {
   "cell_type": "markdown",
   "id": "cell-0",
   "metadata": {},
   "source": [
    "# Simple HTML Test\n",
    "\n",
    "Test weblite with simple HTML content."
   ]
  },
  {
   "cell_type": "code",
   "execution_count": 1,
   "id": "cell-1",
   "metadata": {},
   "outputs": [],
   "source": [
    "import sys\n",
    "import os\n",
    "sys.path.insert(0, os.path.join(os.path.dirname(os.getcwd()), 'src'))\n",
    "\n",
    "from playwright.async_api import async_playwright\n",
    "from weblite import PlaywrightPage\n",
    "from weblite.utils.formatting import to_compact_json"
   ]
  },
  {
   "cell_type": "code",
   "execution_count": 2,
   "id": "cell-2",
   "metadata": {},
   "outputs": [
    {
     "name": "stdout",
     "output_type": "stream",
     "text": [
      "HTML loaded:\n",
      "<!DOCTYPE html>\n",
      "<html>\n",
      "<head>\n",
      "    <title>Simple Test Page</title>\n",
      "</head>\n",
      "<body>\n",
      "    <h1>Welcome</h1>\n",
      "    <p>This is a simple test page.</p>\n",
      "    \n",
      "    <div class=\"form-section\">\n",
      "        <label>Name:</l...\n"
     ]
    }
   ],
   "source": [
    "# Read the simple HTML file\n",
    "with open('../tests/fixtures/simple_test.html', 'r') as f:\n",
    "    html_content = f.read()\n",
    "\n",
    "print(\"HTML loaded:\")\n",
    "print(html_content[:200] + \"...\")"
   ]
  },
  {
   "cell_type": "code",
   "execution_count": 3,
   "id": "cell-3",
   "metadata": {},
   "outputs": [
    {
     "name": "stdout",
     "output_type": "stream",
     "text": [
      "HTML loaded into browser\n"
     ]
    }
   ],
   "source": [
    "playwright_ctx = await async_playwright().start()\n",
    "browser = await playwright_ctx.chromium.launch(headless=True)\n",
    "page = await browser.new_page()\n",
    "\n",
    "# Load the HTML\n",
    "await page.set_content(html_content)\n",
    "\n",
    "# Wrap in our interface\n",
    "web_page = PlaywrightPage(page)\n",
    "\n",
    "print(\"HTML loaded into browser\")"
   ]
  },
  {
   "cell_type": "code",
   "execution_count": 4,
   "id": "cell-4",
   "metadata": {},
   "outputs": [
    {
     "name": "stdout",
     "output_type": "stream",
     "text": [
      "Parse result:\n",
      "{\n",
      " \"body\": [\n",
      "  {\"h1\": \"Welcome\"},\n",
      "  {\"p\": \"This is a simple test page.\"},\n",
      "  {\n",
      "   \"div\": [\n",
      "    {\"label\": \"Name:\"},\n",
      "    {\"input\": \"@placeholder=Enter your name\"},\n",
      "    {\"label\": \"Email:\"},\n",
      "    {\"input\": \"@value=test@example.com\"},\n",
      "    {\"button\": \"Submit\"}\n",
      "   ]\n",
      "  },\n",
      "  {\n",
      "   \"div\": [\n",
      "    {\n",
      "     \"div\": [\n",
      "      {\"h3\": \"Product 1\"},\n",
      "      {\"p\": \"$29.99\"},\n",
      "      {\"button\": \"Buy Now\"}\n",
      "     ]\n",
      "    },\n",
      "    {\n",
      "     \"div\": [\n",
      "      {\"h3\": \"Product 2\"},\n",
      "      {\"p\": \"$39.99\"},\n",
      "      {\"button\": \"Buy Now\"}\n",
      "     ]\n",
      "    }\n",
      "   ]\n",
      "  }\n",
      " ]\n",
      "}\n"
     ]
    }
   ],
   "source": [
    "# Convert to weblite format using new 0.2.0 API\n",
    "element = await web_page.to_weblite()\n",
    "\n",
    "if element:\n",
    "    # Get the simplified representation\n",
    "    result = element.to_dict(collapse_wrappers=True)\n",
    "    print(\"Parse result:\")\n",
    "    print(to_compact_json(result))\n",
    "else:\n",
    "    print(\"No visible content found\")"
   ]
  },
  {
   "cell_type": "code",
   "execution_count": 5,
   "id": "cell-5",
   "metadata": {},
   "outputs": [
    {
     "name": "stdout",
     "output_type": "stream",
     "text": [
      "Full structure (no wrapper collapsing):\n",
      "{\n",
      " \"body\": [\n",
      "  {\"h1\": \"Welcome\"},\n",
      "  {\"p\": \"This is a simple test page.\"},\n",
      "  {\n",
      "   \"div\": [\n",
      "    {\"label\": \"Name:\"},\n",
      "    {\"input\": \"@placeholder=Enter your name\"},\n",
      "    {\"label\": \"Email:\"},\n",
      "    {\"input\": \"@value=test@example.com\"},\n",
      "    {\"button\": \"Submit\"}\n",
      "   ]\n",
      "  },\n",
      "  {\n",
      "   \"div\": [\n",
      "    {\n",
      "     \"div\": [\n",
      "      {\"h3\": \"Product 1\"},\n",
      "      {\"p\": \"$29.99\"},\n",
      "      {\"button\": \"Buy Now\"}\n",
      "     ]\n",
      "    },\n",
      "    {\n",
      "     \"div\": [\n",
      "      {\"h3\": \"Product 2\"},\n",
      "      {\"p\": \"$39.99\"},\n",
      "      {\"button\": \"Buy Now\"}\n",
      "     ]\n",
      "    }\n",
      "   ]\n",
      "  }\n",
      " ]\n",
      "}\n"
     ]
    }
   ],
   "source": [
    "# Try without collapsing wrappers\n",
    "if element:\n",
    "    result_full = element.to_dict(collapse_wrappers=False)\n",
    "    print(\"Full structure (no wrapper collapsing):\")\n",
    "    print(to_compact_json(result_full))"
   ]
  },
  {
   "cell_type": "code",
   "execution_count": 6,
   "id": "cell-6",
   "metadata": {},
   "outputs": [
    {
     "name": "stdout",
     "output_type": "stream",
     "text": [
      "Browser closed!\n"
     ]
    }
   ],
   "source": [
    "# Cleanup: Close browser\n",
    "await browser.close()\n",
    "await playwright_ctx.stop()\n",
    "print(\"Browser closed!\")"
   ]
  }
 ],
 "metadata": {
  "kernelspec": {
   "display_name": "venv",
   "language": "python",
   "name": "python3"
  },
  "language_info": {
   "codemirror_mode": {
    "name": "ipython",
    "version": 3
   },
   "file_extension": ".py",
   "mimetype": "text/x-python",
   "name": "python",
   "nbconvert_exporter": "python",
   "pygments_lexer": "ipython3",
   "version": "3.12.3"
  }
 },
 "nbformat": 4,
 "nbformat_minor": 5
}
