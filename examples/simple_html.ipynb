{
 "cells": [
  {
   "cell_type": "markdown",
   "id": "cell-0",
   "metadata": {},
   "source": [
    "# Simple HTML Test\n",
    "\n",
    "Test weblite with simple HTML content."
   ]
  },
  {
   "cell_type": "code",
   "execution_count": null,
   "id": "cell-1",
   "metadata": {},
   "outputs": [],
   "source": [
    "import sys\n",
    "import os\n",
    "sys.path.insert(0, os.path.join(os.path.dirname(os.getcwd()), 'src'))\n",
    "\n",
    "from playwright.async_api import async_playwright\n",
    "from weblite.adapters.playwright import PlaywrightPage\n",
    "from weblite import parse\n",
    "from weblite.utils import compact_json"
   ]
  },
  {
   "cell_type": "code",
   "execution_count": 2,
   "id": "08qeo58lr0ij",
   "metadata": {},
   "outputs": [
    {
     "name": "stdout",
     "output_type": "stream",
     "text": [
      "HTML loaded:\n",
      "<!DOCTYPE html>\n",
      "<html>\n",
      "<head>\n",
      "    <title>Simple Test Page</title>\n",
      "</head>\n",
      "<body>\n",
      "    <h1>Welcome</h1>\n",
      "    <p>This is a simple test page.</p>\n",
      "    \n",
      "    <div class=\"form-section\">\n",
      "        <label>Name:</l...\n"
     ]
    }
   ],
   "source": [
    "# Read the simple HTML file\n",
    "with open('../tests/fixtures/simple_test.html', 'r') as f:\n",
    "    html_content = f.read()\n",
    "\n",
    "print(\"HTML loaded:\")\n",
    "print(html_content[:200] + \"...\")"
   ]
  },
  {
   "cell_type": "code",
   "execution_count": 3,
   "id": "234oi3she5j",
   "metadata": {},
   "outputs": [],
   "source": [
    "playwright_ctx = await async_playwright().start()\n",
    "browser = await playwright_ctx.chromium.launch(headless=True)\n",
    "page = await browser.new_page()\n",
    "\n",
    "# Load the HTML\n",
    "await page.set_content(html_content)\n",
    "\n",
    "# Wrap in our interface\n",
    "web_page = PlaywrightPage(page)\n",
    "\n",
    "# Don't close browser yet - we'll debug first"
   ]
  },
  {
   "cell_type": "code",
   "execution_count": null,
   "id": "0wsvkh0muvkk",
   "metadata": {},
   "outputs": [
    {
     "name": "stdout",
     "output_type": "stream",
     "text": [
      "Parse result:\n",
      "{\n",
      "  \"body\": [\n",
      "    {\"h1\": \"Welcome\"},\n",
      "    {\"p\": \"This is a simple test page.\"},\n",
      "    {\n",
      "      \"div\": [\n",
      "        {\"label\": \"Name:\"},\n",
      "        {\"input\": \"\"},\n",
      "        {\"label\": \"Email:\"},\n",
      "        {\"input\": \"\"},\n",
      "        {\"button\": \"Submit\"}\n",
      "      ]\n",
      "    },\n",
      "    {\n",
      "      \"div\": [\n",
      "        {\n",
      "          \"div\": [\n",
      "            {\"h3\": \"Product 1\"},\n",
      "            {\"p\": \"$29.99\"},\n",
      "            {\"button\": \"Buy Now\"}\n",
      "          ]\n",
      "        },\n",
      "        {\n",
      "          \"div\": [\n",
      "            {\"h3\": \"Product 2\"},\n",
      "            {\"p\": \"$39.99\"},\n",
      "            {\"button\": \"Buy Now\"}\n",
      "          ]\n",
      "        }\n",
      "      ]\n",
      "    }\n",
      "  ]\n",
      "}\n"
     ]
    }
   ],
   "source": [
    "# Parse the page\n",
    "result = await parse(web_page)\n",
    "\n",
    "print(\"Parse result:\")\n",
    "print(compact_json(result))"
   ]
  },
  {
   "cell_type": "code",
   "execution_count": 5,
   "id": "2uolzdoqjli",
   "metadata": {},
   "outputs": [
    {
     "name": "stdout",
     "output_type": "stream",
     "text": [
      "Browser closed!\n"
     ]
    }
   ],
   "source": [
    "# Cleanup: Close browser\n",
    "await browser.close()\n",
    "await playwright_ctx.stop()\n",
    "print(\"Browser closed!\")"
   ]
  },
  {
   "cell_type": "code",
   "execution_count": 6,
   "id": "ba84c0cb",
   "metadata": {},
   "outputs": [],
   "source": [
    "await browser.close()"
   ]
  }
 ],
 "metadata": {
  "kernelspec": {
   "display_name": "venv",
   "language": "python",
   "name": "python3"
  },
  "language_info": {
   "codemirror_mode": {
    "name": "ipython",
    "version": 3
   },
   "file_extension": ".py",
   "mimetype": "text/x-python",
   "name": "python",
   "nbconvert_exporter": "python",
   "pygments_lexer": "ipython3",
   "version": "3.12.3"
  }
 },
 "nbformat": 4,
 "nbformat_minor": 5
}
