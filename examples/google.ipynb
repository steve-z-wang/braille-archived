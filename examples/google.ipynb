{
 "cells": [
  {
   "cell_type": "markdown",
   "id": "cell-0",
   "metadata": {},
   "source": [
    "# Google.com Test\n",
    "\n",
    "Test weblite with Google.com"
   ]
  },
  {
   "cell_type": "code",
   "execution_count": null,
   "id": "cell-1",
   "metadata": {},
   "outputs": [],
   "source": [
    "import sys\n",
    "import os\n",
    "sys.path.insert(0, os.path.join(os.path.dirname(os.getcwd()), 'src'))\n",
    "\n",
    "from playwright.async_api import async_playwright\n",
    "from weblite.adapters.playwright import PlaywrightPage, PlaywrightElement\n",
    "from weblite import parse\n",
    "from weblite.utils import compact_json"
   ]
  },
  {
   "cell_type": "code",
   "execution_count": 2,
   "id": "cell-2",
   "metadata": {},
   "outputs": [
    {
     "name": "stdout",
     "output_type": "stream",
     "text": [
      "Loading Google.com...\n"
     ]
    }
   ],
   "source": [
    "print(\"Loading Google.com...\")"
   ]
  },
  {
   "cell_type": "code",
   "execution_count": 3,
   "id": "cell-3",
   "metadata": {},
   "outputs": [
    {
     "name": "stdout",
     "output_type": "stream",
     "text": [
      "Google.com loaded!\n"
     ]
    }
   ],
   "source": [
    "playwright_ctx = await async_playwright().start()\n",
    "browser = await playwright_ctx.chromium.launch(headless=True)\n",
    "page = await browser.new_page()\n",
    "\n",
    "# Navigate to Google\n",
    "await page.goto(\"https://google.com\")\n",
    "await page.wait_for_load_state(\"networkidle\")\n",
    "\n",
    "# Wrap in our interface\n",
    "web_page = PlaywrightPage(page)\n",
    "\n",
    "print(\"Google.com loaded!\")"
   ]
  },
  {
   "cell_type": "code",
   "execution_count": null,
   "id": "cell-6",
   "metadata": {},
   "outputs": [
    {
     "name": "stdout",
     "output_type": "stream",
     "text": [
      "Parse result:\n",
      "{\n",
      "  \"body\": [\n",
      "    {\n",
      "      \"div\": [\n",
      "        {\n",
      "          \"div\": [\n",
      "            {\"a\": \"About\"},\n",
      "            {\"a\": \"Store\"},\n",
      "            {\n",
      "              \"header\": [\n",
      "                {\n",
      "                  \"div\": [\n",
      "                    {\"a\": \"Gmail\"},\n",
      "                    {\"a\": \"Images\"}\n",
      "                  ]\n",
      "                },\n",
      "                {\n",
      "                  \"a\": [\n",
      "                    {\n",
      "                      \"svg\": [\n",
      "                        {\"path\": \"\"},\n",
      "                        {\"image\": \"\"}\n",
      "                      ]\n",
      "                    }\n",
      "                  ]\n",
      "                },\n",
      "                {\n",
      "                  \"a\": [\n",
      "                    {\"span\": \"Sign in\"}\n",
      "                  ]\n",
      "                }\n",
      "              ]\n",
      "            }\n",
      "          ]\n",
      "        },\n",
      "        {\n",
      "          \"svg\": [\n",
      "            {\"path\": \"\"},\n",
      "            {\"path\": \"\"},\n",
      "            {\"path\": \"\"},\n",
      "            {\"path\": \"\"},\n",
      "            {\"path\": \"\"},\n",
      "            {\"path\": \"\"}\n",
      "          ]\n",
      "        },\n",
      "        {\n",
      "          \"form\": [\n",
      "            {\n",
      "              \"div\": [\n",
      "                {\n",
      "                  \"div\": [\n",
      "                    {\n",
      "                      \"svg\": [\n",
      "                        {\"path\": \"\"}\n",
      "                      ]\n",
      "                    },\n",
      "                    {\"textarea\": \"\"},\n",
      "                    {\n",
      "                      \"div\": [\n",
      "                        {\"div\": \"\"},\n",
      "                        {\n",
      "                          \"div\": [\n",
      "                            {\n",
      "                              \"svg\": [\n",
      "                                {\"path\": \"\"}\n",
      "                              ]\n",
      "                            },\n",
      "                            {\n",
      "                              \"svg\": [\n",
      "                                {\"path\": \"\"}\n",
      "                              ]\n",
      "                            }\n",
      "                          ]\n",
      "                        }\n",
      "                      ]\n",
      "                    }\n",
      "                  ]\n",
      "                },\n",
      "                {\n",
      "                  \"center\": [\n",
      "                    {\"input\": \"\"},\n",
      "                    {\"input\": \"\"}\n",
      "                  ]\n",
      "                }\n",
      "              ]\n",
      "            }\n",
      "          ]\n",
      "        },\n",
      "        {\"div\": \"\"},\n",
      "        {\n",
      "          \"div\": [\n",
      "            {\n",
      "              \"div\": [\n",
      "                {\"a\": \"Advertising\"},\n",
      "                {\"a\": \"Business\"},\n",
      "                {\"a\": \"How Search works\"}\n",
      "              ]\n",
      "            },\n",
      "            {\n",
      "              \"a\": [\n",
      "                {\"img\": \"\"},\n",
      "                {\"span\": \"Applying AI towards science and the environment\"}\n",
      "              ]\n",
      "            },\n",
      "            {\n",
      "              \"div\": [\n",
      "                {\"a\": \"Privacy\"},\n",
      "                {\"a\": \"Terms\"},\n",
      "                {\n",
      "                  \"g-popup\": [\n",
      "                    {\"div\": \"Settings\"}\n",
      "                  ]\n",
      "                }\n",
      "              ]\n",
      "            }\n",
      "          ]\n",
      "        }\n",
      "      ]\n",
      "    }\n",
      "  ]\n",
      "}\n"
     ]
    }
   ],
   "source": [
    "# Parse the page\n",
    "result = await parse(web_page)\n",
    "\n",
    "print(\"Parse result:\")\n",
    "print(compact_json(result))"
   ]
  },
  {
   "cell_type": "code",
   "execution_count": 5,
   "id": "cell-7",
   "metadata": {},
   "outputs": [
    {
     "name": "stdout",
     "output_type": "stream",
     "text": [
      "Browser closed!\n"
     ]
    }
   ],
   "source": [
    "# Cleanup: Close browser\n",
    "await browser.close()\n",
    "await playwright_ctx.stop()\n",
    "print(\"Browser closed!\")"
   ]
  }
 ],
 "metadata": {
  "kernelspec": {
   "display_name": "venv",
   "language": "python",
   "name": "python3"
  },
  "language_info": {
   "codemirror_mode": {
    "name": "ipython",
    "version": 3
   },
   "file_extension": ".py",
   "mimetype": "text/x-python",
   "name": "python",
   "nbconvert_exporter": "python",
   "pygments_lexer": "ipython3",
   "version": "3.12.3"
  }
 },
 "nbformat": 4,
 "nbformat_minor": 5
}
