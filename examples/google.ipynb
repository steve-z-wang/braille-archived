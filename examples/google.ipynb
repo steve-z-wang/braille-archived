{
 "cells": [
  {
   "cell_type": "markdown",
   "id": "cell-0",
   "metadata": {},
   "source": [
    "# Google.com Test\n",
    "\n",
    "Test weblite with Google.com"
   ]
  },
  {
   "cell_type": "code",
   "execution_count": 1,
   "id": "cell-1",
   "metadata": {},
   "outputs": [],
   "source": [
    "import sys\n",
    "import os\n",
    "sys.path.insert(0, os.path.join(os.path.dirname(os.getcwd()), 'src'))\n",
    "\n",
    "from playwright.async_api import async_playwright\n",
    "from weblite import PlaywrightPage, PlaywrightElement\n",
    "from weblite.utils import to_compact_json"
   ]
  },
  {
   "cell_type": "code",
   "execution_count": 2,
   "id": "cell-2",
   "metadata": {},
   "outputs": [
    {
     "name": "stdout",
     "output_type": "stream",
     "text": [
      "Loading Google.com...\n"
     ]
    }
   ],
   "source": [
    "print(\"Loading Google.com...\")"
   ]
  },
  {
   "cell_type": "code",
   "execution_count": 3,
   "id": "cell-3",
   "metadata": {},
   "outputs": [
    {
     "name": "stdout",
     "output_type": "stream",
     "text": [
      "Google.com loaded!\n"
     ]
    }
   ],
   "source": [
    "playwright_ctx = await async_playwright().start()\n",
    "browser = await playwright_ctx.chromium.launch(headless=True)\n",
    "page = await browser.new_page()\n",
    "\n",
    "# Navigate to Google\n",
    "await page.goto(\"https://google.com\")\n",
    "await page.wait_for_load_state(\"networkidle\")\n",
    "\n",
    "# Wrap in our interface\n",
    "web_page = PlaywrightPage(page)\n",
    "\n",
    "print(\"Google.com loaded!\")"
   ]
  },
  {
   "cell_type": "code",
   "execution_count": 4,
   "id": "cell-4",
   "metadata": {},
   "outputs": [
    {
     "name": "stdout",
     "output_type": "stream",
     "text": [
      "Parse result:\n",
      "{\n",
      " \"body\": {\n",
      "  \"div\": [\n",
      "   {\n",
      "    \"div\": [\n",
      "     {\"a\": \"About\"},\n",
      "     {\"a\": \"Store\"},\n",
      "     {\n",
      "      \"header\": [\n",
      "       {\n",
      "        \"div\": [\n",
      "         {\"a\": \"Gmail\"},\n",
      "         {\"a\": \"Images\"}\n",
      "        ]\n",
      "       },\n",
      "       {\n",
      "        \"a\": {\"span\": \"Sign in\"}\n",
      "       }\n",
      "      ]\n",
      "     }\n",
      "    ]\n",
      "   },\n",
      "   {\n",
      "    \"a\": {\n",
      "     \"picture\": {\"img\": \"@alt=WNBA Playoffs 2025\"}\n",
      "    }\n",
      "   },\n",
      "   {\n",
      "    \"form\": {\n",
      "     \"div\": [\n",
      "      {\"textarea\": \"\"},\n",
      "      {\n",
      "       \"center\": [\n",
      "        {\"input\": \"@value=Google Search\"},\n",
      "        {\"input\": \"@value=I'm Feeling Lucky\"}\n",
      "       ]\n",
      "      }\n",
      "     ]\n",
      "    }\n",
      "   },\n",
      "   {\n",
      "    \"div\": [\n",
      "     {\n",
      "      \"div\": [\n",
      "       {\"a\": \"Advertising\"},\n",
      "       {\"a\": \"Business\"},\n",
      "       {\"a\": \"How Search works\"}\n",
      "      ]\n",
      "     },\n",
      "     {\n",
      "      \"a\": {\"span\": \"Applying AI towards science and the environment\"}\n",
      "     },\n",
      "     {\n",
      "      \"div\": [\n",
      "       {\"a\": \"Privacy\"},\n",
      "       {\"a\": \"Terms\"},\n",
      "       {\n",
      "        \"span\": {\n",
      "         \"span\": {\n",
      "          \"g-popup\": {\"div\": \"Settings\"}\n",
      "         }\n",
      "        }\n",
      "       }\n",
      "      ]\n",
      "     }\n",
      "    ]\n",
      "   }\n",
      "  ]\n",
      " }\n",
      "}\n"
     ]
    }
   ],
   "source": [
    "# Convert to weblite format using new 0.2.0 API\n",
    "element = await web_page.to_weblite()\n",
    "\n",
    "if element:\n",
    "    # Get the simplified representation\n",
    "    result = element.to_dict(collapse_wrappers=True)\n",
    "    print(\"Parse result:\")\n",
    "    print(to_compact_json(result))\n",
    "else:\n",
    "    print(\"No visible content found\")"
   ]
  },
  {
   "cell_type": "code",
   "execution_count": 5,
   "id": "cell-5",
   "metadata": {},
   "outputs": [
    {
     "name": "stdout",
     "output_type": "stream",
     "text": [
      "Browser closed!\n"
     ]
    }
   ],
   "source": [
    "# Cleanup: Close browser\n",
    "await browser.close()\n",
    "await playwright_ctx.stop()\n",
    "print(\"Browser closed!\")"
   ]
  }
 ],
 "metadata": {
  "kernelspec": {
   "display_name": "venv",
   "language": "python",
   "name": "python3"
  },
  "language_info": {
   "codemirror_mode": {
    "name": "ipython",
    "version": 3
   },
   "file_extension": ".py",
   "mimetype": "text/x-python",
   "name": "python",
   "nbconvert_exporter": "python",
   "pygments_lexer": "ipython3",
   "version": "3.12.3"
  }
 },
 "nbformat": 4,
 "nbformat_minor": 5
}
